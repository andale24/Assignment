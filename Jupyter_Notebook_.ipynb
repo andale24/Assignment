{
 "cells": [
  {
   "cell_type": "markdown",
   "id": "e8530551-a2f4-4aef-8c0a-9f5f5396d4dd",
   "metadata": {},
   "source": [
    "# My Jupyter Notebook on IBM Watson Studio"
   ]
  },
  {
   "cell_type": "markdown",
   "id": "f9491ca6-19f6-4946-aef7-73ef99d31632",
   "metadata": {},
   "source": [
    "**Andreas** **Budhi**<br>\n",
    "Data Scientist"
   ]
  },
  {
   "cell_type": "markdown",
   "id": "615f174a-be75-44e3-a386-812c97ff9918",
   "metadata": {},
   "source": [
    "I am interested in data science because I am "
   ]
  },
  {
   "cell_type": "markdown",
   "id": "1135109a-74a2-4ab7-aa67-ab958464e9e8",
   "metadata": {},
   "source": [
    "### My code is supposed to calculate the sum of 4 and 7"
   ]
  },
  {
   "cell_type": "code",
   "execution_count": 2,
   "id": "99d39c7a-d847-436e-b537-83ca04e4e4d7",
   "metadata": {},
   "outputs": [
    {
     "data": {
      "text/plain": [
       "11"
      ]
     },
     "execution_count": 2,
     "metadata": {},
     "output_type": "execute_result"
    }
   ],
   "source": [
    "4 + 7"
   ]
  },
  {
   "cell_type": "markdown",
   "id": "c989dd05-abd4-49f7-8d7b-149afbe154ba",
   "metadata": {},
   "source": [
    "Horizontal Breaks\n",
    "***\n",
    "Horizontal Breaks\n",
    "\n",
    "Tables | Tables | Tables \n",
    "--- | --- | ---\n",
    "What | 'huh' | yes\n",
    "1 | 2 | 3\n",
    "\n",
    "> Blockquotes\n"
   ]
  },
  {
   "cell_type": "code",
   "execution_count": null,
   "id": "57b979cc-046c-4ff1-9c5f-7ae2eb090a7c",
   "metadata": {},
   "outputs": [],
   "source": []
  }
 ],
 "metadata": {
  "kernelspec": {
   "display_name": "Python",
   "language": "python",
   "name": "conda-env-python-py"
  },
  "language_info": {
   "codemirror_mode": {
    "name": "ipython",
    "version": 3
   },
   "file_extension": ".py",
   "mimetype": "text/x-python",
   "name": "python",
   "nbconvert_exporter": "python",
   "pygments_lexer": "ipython3",
   "version": "3.7.12"
  }
 },
 "nbformat": 4,
 "nbformat_minor": 5
}
